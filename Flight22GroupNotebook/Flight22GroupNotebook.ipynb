{
 "cells": [
  {
   "cell_type": "markdown",
   "metadata": {},
   "source": [
    "Group: Flight 22"
   ]
  },
  {
   "cell_type": "markdown",
   "metadata": {},
   "source": [
    "Members: Maura, Manal, Liam, and Brendan"
   ]
  },
  {
   "cell_type": "markdown",
   "metadata": {},
   "source": [
    "Overall Metric: Quality of Life"
   ]
  },
  {
   "cell_type": "markdown",
   "metadata": {},
   "source": [
    "Individual Metrics: Maura - Air Quality, Manal - Education, Brendan - Safety, Liam - Food"
   ]
  },
  {
   "cell_type": "markdown",
   "metadata": {},
   "source": [
    "Introduction"
   ]
  },
  {
   "cell_type": "markdown",
   "metadata": {},
   "source": [
    "The goal of this project is to determine which neighborhood in Pittsburgh is the best. To do this we needed to choose 1 overarching metric that in our opinion determines whether a neighborhoodd is better than another neighborhood. For this we chose Quality of Life because it is a metric that we felt reached every aspect of a neighborhood and if someones quality of life is better in another neighborhood than it would stand that that neighborhood is better. For the individual metrics we needed something that could be quantifiable utilizing data sets and is vital to someones quality of life. To start with Air Quality was chosen because if you can't go outside and breathe fresh air and are always plagued by poluted air then how can you ever truly enjoy a neighborhood. Second, Education was chosen because if a person growing up in a neighborhood is offered better or worse education, this can impact the overall average success in career that people in the neighborhood will face. Thirdly, Safety was chosen because if you can't be certain that someone won't rob and or injure whilst walking around your neighborhood then most people would want to move away if financially possible. Lastly, Food was chosen because it is a necesity of life and having access to healthy food options can impact every aspect of a persons life. We will choose data sets that allow us to quantify these metrics and then rank the neighborhoods that exist across all four data sets within each metric. After getting individual rankings we will exclude neighborhoods ranked to low in any given metric and then from the neighborhoods remaining will choose a neighborhood to deem as the best based off its relative overall performance in each of the 4 metrics."
   ]
  },
  {
   "cell_type": "code",
   "execution_count": 24,
   "metadata": {},
   "outputs": [
    {
     "name": "stdout",
     "output_type": "stream",
     "text": [
      "Good is measured in number of appearances and if Bad is equal to 1 then it means that it is excluded\n"
     ]
    },
    {
     "data": {
      "image/png": "[encoded data removed]",
      "text/plain": [
       "<Figure size 432x288 with 1 Axes>"
      ]
     },
     "metadata": {
      "needs_background": "light"
     },
     "output_type": "display_data"
    }
   ],
   "source": [
    "import pandas as pd\n",
    "\n",
    "Combined_Data = {'Neighborhood': ['Oakwood', 'East Allegheny', 'Crafton Heights', 'Westwood', 'Highland Park', 'East Liberty', 'Shadyside', 'Bloomfield'], \n",
    "                 'Bad': [1,1,1,1,1,1,0,0],\n",
    "                'Good': [1,1,1,0,1,0,3,1]}\n",
    "CD = pd.DataFrame(Combined_Data)\n",
    "CD.plot.bar(x='Neighborhood', y = ['Bad', 'Good'], title = 'Good and Bad Neighborhoods in Pittsburgh')\n",
    "print('Good is measured in number of appearances and if Bad is equal to 1 then it means that it is excluded')"
   ]
  },
  {
   "cell_type": "markdown",
   "metadata": {},
   "source": [
    "Code Explanation:"
   ]
  },
  {
   "cell_type": "markdown",
   "metadata": {},
   "source": [
    "We created a DataFrame CD that stored all the neighborhoods that were either in the top two of bottom two of each group members individual metric. For the Bad count, if it appeared once then it is counted as a 1 which excludes it from contention of best neighborhood. For the Good count, we count each time a neighborhood appears in the top two of a metric. Then utilizing pandas we created a bar graph to help visualize this data."
   ]
  },
  {
   "cell_type": "code",
   "execution_count": 23,
   "metadata": {},
   "outputs": [
    {
     "name": "stdout",
     "output_type": "stream",
     "text": [
      "The best neighborhood in Pittsburgh is: Shadyside.\n"
     ]
    }
   ],
   "source": [
    "Bad = [\"Oakwood\", \"East Allegheny\", \"Crafton Heights\", \"Westwood\", \"Highland Park\", \"East Liberty\"]\n",
    "Good = {\"Shadyside\": 3, \"Bloomfield\": 1, \"Highland Park\": 1, \"Oakwood\": 1, 'East Allegheny': 1, 'Crafton Heights': 1}\n",
    "\n",
    "for x in range(len(Bad)):\n",
    "    if(Bad[x] in Good):\n",
    "        del Good[Bad[x]]\n",
    "max = 0\n",
    "temp = list(Good)\n",
    "best = \"\"\n",
    "for x in range(len(Good)):\n",
    "    if(Good[temp[x]]>max):\n",
    "        max = Good[temp[x]]\n",
    "        best = temp[x]\n",
    "    else:\n",
    "        if(Good[temp[x]]==max):\n",
    "            best = best + \" and \" + temp[x]\n",
    "print(\"The best neighborhood in Pittsburgh is: \" + best + \".\")"
   ]
  },
  {
   "cell_type": "markdown",
   "metadata": {},
   "source": [
    "Code Explanation:"
   ]
  },
  {
   "cell_type": "markdown",
   "metadata": {},
   "source": [
    "We created an array called Bad that contained the two worst neighborhoods from each group members individual metrics. Then we created a dictionary called Good that contained the top two of each group members individual metric, the number stored was determined by the number of times a neighborhood was in the top two. Then we iterated through the Array Bad and if a neighborhood was in Bad and in Good then the entry in Green was deleted so as to not allow for any of the worst neighborhoods to be qualfied as the best. Then we iterated through the dictionary Good and figured out which neighborhood had the most spots in the top two for each individual metric."
   ]
  },
  {
   "cell_type": "markdown",
   "metadata": {},
   "source": [
    "Conclusion"
   ]
  },
  {
   "cell_type": "markdown",
   "metadata": {},
   "source": [
    "In the end, we came to the conclusion that Shadyside was the best neighborhood, which matches the prediction that our group members who live in Pittsburgh predicted before we started the project. Shadyside also won by a landslide, we might add, as it came in first for the individual metrics of Air Quality and Education and was second overall for Safety, and in the Safety category was first overall for least amount of violent crimes per 1,000 people in the neighborhood. For the metric of Food it was in the middle of the pack, which for a neighborhood with such a high population is good."
   ]
  }
 ],
 "metadata": {
  "kernelspec": {
   "display_name": "Python 3.7",
   "language": "python",
   "name": "python3"
  },
  "language_info": {
   "codemirror_mode": {
    "name": "ipython",
    "version": 3
   },
   "file_extension": ".py",
   "mimetype": "text/x-python",
   "name": "python",
   "nbconvert_exporter": "python",
   "pygments_lexer": "ipython3",
   "version": "3.7.0"
  }
 },
 "nbformat": 4,
 "nbformat_minor": 4
}
