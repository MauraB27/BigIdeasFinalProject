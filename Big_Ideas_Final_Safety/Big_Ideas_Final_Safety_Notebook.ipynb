{
 "cells": [
  {
   "cell_type": "markdown",
   "metadata": {},
   "source": [
    "Brendan MacMichael\n",
    "Metric: Safety\n",
    "Creation Date: 11/26/2024"
   ]
  },
  {
   "cell_type": "markdown",
   "metadata": {},
   "source": [
    "Introduction"
   ]
  },
  {
   "cell_type": "markdown",
   "metadata": {},
   "source": [
    "This project is to determine the best neighborhood in the city of Pittsburgh. In order to accomplish this our group had to choose four metrics by which we could measure what makes a neighborhood the best. Our group, Flight 22 decided on the metrics of Safety, Health, Education, and Food which we deemed to be the most important qualities of a neighborhood to make it the best. While there are other aspects important to consider when determining the best neighborhood such as affordability and recreational areas, we decided on our four based off their necesity to living and that they were all able to measured and ranked in a systematic way."
   ]
  },
  {
   "cell_type": "markdown",
   "metadata": {},
   "source": [
    "My Metric"
   ]
  },
  {
   "cell_type": "markdown",
   "metadata": {},
   "source": [
    "My metric is safety, and to examine which neighborhoods are the safest I am utilizing a dataset that contains the arrest record of crimes committed in Pittsburgh. To measure how safe a neighborhood is I first narrow my search down to only neighborhoods that we deemed as competitors for this competition due to the necesity of all group members data sets needing to be able to have said neighborhoods. Then I looked at the total number of crimes committed in each neighborhood and compared it to the total population of the neighborhood. Then I looked at the number of violent vs nonviolent crimes commited in each neighborhood because while all crimes are terrible, safety wise, it is more important that a person is not injured vs someone stealing something or some equivalent charge. I then utilized graphs to showcase the data so that it was easier for people to understand the final analysis of which neighborhood was the safest."
   ]
  },
  {
   "cell_type": "code",
   "execution_count": 1,
   "metadata": {},
   "outputs": [
    {
     "data": {
      "text/html": [
       "<div>\n",
       "<style scoped>\n",
       "    .dataframe tbody tr th:only-of-type {\n",
       "        vertical-align: middle;\n",
       "    }\n",
       "\n",
       "    .dataframe tbody tr th {\n",
       "        vertical-align: top;\n",
       "    }\n",
       "\n",
       "    .dataframe thead th {\n",
       "        text-align: right;\n",
       "    }\n",
       "</style>\n",
       "<table border=\"1\" class=\"dataframe\">\n",
       "  <thead>\n",
       "    <tr style=\"text-align: right;\">\n",
       "      <th></th>\n",
       "      <th>_id</th>\n",
       "      <th>PK</th>\n",
       "      <th>CCR</th>\n",
       "      <th>AGE</th>\n",
       "      <th>GENDER</th>\n",
       "      <th>RACE</th>\n",
       "      <th>ARRESTTIME</th>\n",
       "      <th>ARRESTLOCATION</th>\n",
       "      <th>OFFENSES</th>\n",
       "      <th>INCIDENTLOCATION</th>\n",
       "      <th>INCIDENTNEIGHBORHOOD</th>\n",
       "      <th>INCIDENTZONE</th>\n",
       "      <th>INCIDENTTRACT</th>\n",
       "      <th>COUNCIL_DISTRICT</th>\n",
       "      <th>PUBLIC_WORKS_DIVISION</th>\n",
       "      <th>X</th>\n",
       "      <th>Y</th>\n",
       "    </tr>\n",
       "  </thead>\n",
       "  <tbody>\n",
       "    <tr>\n",
       "      <th>0</th>\n",
       "      <td>1</td>\n",
       "      <td>1975272</td>\n",
       "      <td>16158872</td>\n",
       "      <td>42.0</td>\n",
       "      <td>F</td>\n",
       "      <td>B</td>\n",
       "      <td>2016-08-24T12:20:00</td>\n",
       "      <td>4700 Block Centre AV Pittsburgh, PA 15213</td>\n",
       "      <td>3929 Retail Theft.</td>\n",
       "      <td>4700 Block Centre AV Pittsburgh, PA 15213</td>\n",
       "      <td>Bloomfield</td>\n",
       "      <td>5</td>\n",
       "      <td>804.0</td>\n",
       "      <td>8.0</td>\n",
       "      <td>2.0</td>\n",
       "      <td>-79.949277</td>\n",
       "      <td>40.452551</td>\n",
       "    </tr>\n",
       "    <tr>\n",
       "      <th>1</th>\n",
       "      <td>2</td>\n",
       "      <td>1974456</td>\n",
       "      <td>16144120</td>\n",
       "      <td>31.0</td>\n",
       "      <td>M</td>\n",
       "      <td>W</td>\n",
       "      <td>2016-08-03T14:55:00</td>\n",
       "      <td>4200 Block Steubenville PKE Pittsburgh, PA 15205</td>\n",
       "      <td>13(a)(16) Possession of Controlled Substance</td>\n",
       "      <td>4200 Block Steubenville PKE Pittsburgh, PA 15205</td>\n",
       "      <td>Outside City</td>\n",
       "      <td>OSC</td>\n",
       "      <td>5599.0</td>\n",
       "      <td>NaN</td>\n",
       "      <td>NaN</td>\n",
       "      <td>-80.088018</td>\n",
       "      <td>40.440136</td>\n",
       "    </tr>\n",
       "    <tr>\n",
       "      <th>2</th>\n",
       "      <td>3</td>\n",
       "      <td>1974466</td>\n",
       "      <td>16144165</td>\n",
       "      <td>63.0</td>\n",
       "      <td>F</td>\n",
       "      <td>B</td>\n",
       "      <td>2016-08-03T16:45:00</td>\n",
       "      <td>900 Block Freeport RD Fox Chapel, PA 15238</td>\n",
       "      <td>3929 Retail Theft.</td>\n",
       "      <td>900 Block Freeport RD Fox Chapel, PA 15238</td>\n",
       "      <td>Westwood</td>\n",
       "      <td>5</td>\n",
       "      <td>2811.0</td>\n",
       "      <td>9.0</td>\n",
       "      <td>2.0</td>\n",
       "      <td>-79.891803</td>\n",
       "      <td>40.486625</td>\n",
       "    </tr>\n",
       "    <tr>\n",
       "      <th>3</th>\n",
       "      <td>4</td>\n",
       "      <td>1974550</td>\n",
       "      <td>16145257</td>\n",
       "      <td>25.0</td>\n",
       "      <td>F</td>\n",
       "      <td>W</td>\n",
       "      <td>2016-08-05T02:36:00</td>\n",
       "      <td>Foreland ST &amp; Cedar AV Pittsburgh, PA 15212</td>\n",
       "      <td>5503 Disorderly Conduct. / 5505 Public Drunken...</td>\n",
       "      <td>Foreland ST &amp; Cedar AV Pittsburgh, PA 15212</td>\n",
       "      <td>East Allegheny</td>\n",
       "      <td>1</td>\n",
       "      <td>2304.0</td>\n",
       "      <td>1.0</td>\n",
       "      <td>1.0</td>\n",
       "      <td>-80.001939</td>\n",
       "      <td>40.454080</td>\n",
       "    </tr>\n",
       "    <tr>\n",
       "      <th>4</th>\n",
       "      <td>5</td>\n",
       "      <td>1974596</td>\n",
       "      <td>16145962</td>\n",
       "      <td>25.0</td>\n",
       "      <td>M</td>\n",
       "      <td>B</td>\n",
       "      <td>2016-08-06T02:00:00</td>\n",
       "      <td>900 Block Woodlow ST Pittsburgh, PA 15205</td>\n",
       "      <td>2702 Aggravated Assault. / 2705 Recklessy Enda...</td>\n",
       "      <td>900 Block Woodlow ST Pittsburgh, PA 15205</td>\n",
       "      <td>Crafton Heights</td>\n",
       "      <td>5</td>\n",
       "      <td>2814.0</td>\n",
       "      <td>2.0</td>\n",
       "      <td>5.0</td>\n",
       "      <td>-80.052204</td>\n",
       "      <td>40.445900</td>\n",
       "    </tr>\n",
       "  </tbody>\n",
       "</table>\n",
       "</div>"
      ],
      "text/plain": [
       "   _id       PK       CCR   AGE GENDER RACE           ARRESTTIME  \\\n",
       "0    1  1975272  16158872  42.0      F    B  2016-08-24T12:20:00   \n",
       "1    2  1974456  16144120  31.0      M    W  2016-08-03T14:55:00   \n",
       "2    3  1974466  16144165  63.0      F    B  2016-08-03T16:45:00   \n",
       "3    4  1974550  16145257  25.0      F    W  2016-08-05T02:36:00   \n",
       "4    5  1974596  16145962  25.0      M    B  2016-08-06T02:00:00   \n",
       "\n",
       "                                     ARRESTLOCATION  \\\n",
       "0         4700 Block Centre AV Pittsburgh, PA 15213   \n",
       "1  4200 Block Steubenville PKE Pittsburgh, PA 15205   \n",
       "2        900 Block Freeport RD Fox Chapel, PA 15238   \n",
       "3       Foreland ST & Cedar AV Pittsburgh, PA 15212   \n",
       "4         900 Block Woodlow ST Pittsburgh, PA 15205   \n",
       "\n",
       "                                            OFFENSES  \\\n",
       "0                                 3929 Retail Theft.   \n",
       "1       13(a)(16) Possession of Controlled Substance   \n",
       "2                                 3929 Retail Theft.   \n",
       "3  5503 Disorderly Conduct. / 5505 Public Drunken...   \n",
       "4  2702 Aggravated Assault. / 2705 Recklessy Enda...   \n",
       "\n",
       "                                   INCIDENTLOCATION INCIDENTNEIGHBORHOOD  \\\n",
       "0         4700 Block Centre AV Pittsburgh, PA 15213           Bloomfield   \n",
       "1  4200 Block Steubenville PKE Pittsburgh, PA 15205         Outside City   \n",
       "2        900 Block Freeport RD Fox Chapel, PA 15238             Westwood   \n",
       "3       Foreland ST & Cedar AV Pittsburgh, PA 15212       East Allegheny   \n",
       "4         900 Block Woodlow ST Pittsburgh, PA 15205      Crafton Heights   \n",
       "\n",
       "  INCIDENTZONE  INCIDENTTRACT  COUNCIL_DISTRICT  PUBLIC_WORKS_DIVISION  \\\n",
       "0            5          804.0               8.0                    2.0   \n",
       "1          OSC         5599.0               NaN                    NaN   \n",
       "2            5         2811.0               9.0                    2.0   \n",
       "3            1         2304.0               1.0                    1.0   \n",
       "4            5         2814.0               2.0                    5.0   \n",
       "\n",
       "           X          Y  \n",
       "0 -79.949277  40.452551  \n",
       "1 -80.088018  40.440136  \n",
       "2 -79.891803  40.486625  \n",
       "3 -80.001939  40.454080  \n",
       "4 -80.052204  40.445900  "
      ]
     },
     "execution_count": 1,
     "metadata": {},
     "output_type": "execute_result"
    }
   ],
   "source": [
    "import pandas as pd\n",
    "\n",
    "data = pd.read_csv('Safety_Data.tsv', sep='\\t')\n",
    "data.head()"
   ]
  },
  {
   "cell_type": "markdown",
   "metadata": {},
   "source": [
    "Set up Explanation"
   ]
  },
  {
   "cell_type": "markdown",
   "metadata": {},
   "source": [
    "Imported Pandas and printed the first 5 instances in the file"
   ]
  },
  {
   "cell_type": "code",
   "execution_count": 2,
   "metadata": {},
   "outputs": [
    {
     "name": "stdout",
     "output_type": "stream",
     "text": [
      "{'Bloomfield': 984, 'Westwood': 226, 'East Allegheny': 2217, 'Crafton Heights': 601, 'Greenfield': 537, 'Brookline': 1390, 'East Liberty': 1889, 'Highland Park': 558, 'Shadyside': 971, 'Oakwood': 82}\n"
     ]
    }
   ],
   "source": [
    "dictArea = {}\n",
    "validAreas = {\"Shadyside\", \"Bloomfield\", \"Oakwood\", \"Highland Park\", \"Westwood\", \"East Allegheny\", \"Crafton Heights\", \"Greenfield\", \"Brookline\", \"East Liberty\"}\n",
    "\n",
    "for index, row in data.iterrows():\n",
    "   \n",
    "    if(row['INCIDENTNEIGHBORHOOD'] in validAreas):\n",
    "        try:\n",
    "            dictArea[row['INCIDENTNEIGHBORHOOD']] += 1\n",
    "        except:\n",
    "            dictArea[row['INCIDENTNEIGHBORHOOD']] = 1\n",
    "\n",
    "print(dictArea)"
   ]
  },
  {
   "cell_type": "markdown",
   "metadata": {},
   "source": [
    "Dictionary and Iteration Explantion"
   ]
  },
  {
   "cell_type": "markdown",
   "metadata": {},
   "source": [
    "I first created a dictionary to contain all incidents from the neighborhoods that I wanted to examine. I then created an array that held all of the neighborhoods from my data set that I wanted to examine for this project, my group limited the nieghborhoods based of which ones exist in all of our datasets. Then I iterated through every single row in the data set and totaled the number of incidents for each neighborhood. This is so that the total number of crimes is not greater than it actually is due to one person committing multiple crimes at once which in this case I am counting as one incident."
   ]
  },
  {
   "cell_type": "code",
   "execution_count": 4,
   "metadata": {},
   "outputs": [
    {
     "data": {
      "text/plain": [
       "<matplotlib.axes._subplots.AxesSubplot at 0x7f4c9a10d8d0>"
      ]
     },
     "execution_count": 4,
     "metadata": {},
     "output_type": "execute_result"
    },
    {
     "data": {
      "image/png": "[encoded data removed]",
      "text/plain": [
       "<Figure size 432x288 with 1 Axes>"
      ]
     },
     "metadata": {
      "needs_background": "light"
     },
     "output_type": "display_data"
    }
   ],
   "source": [
    "SSPOP = 14215/1000\n",
    "BFPOP = 8665/1000\n",
    "OWPOP = 2248/1000\n",
    "HPPOP = 1218/1000\n",
    "WWPOP = 1559/1000\n",
    "EAPOP = 14444/1000\n",
    "CHPOP = 3951/1000\n",
    "GFPOP = 7542/1000\n",
    "BLPOP = 14258/1000\n",
    "ELPOP = 6187/1000\n",
    "\n",
    "\n",
    "Relevent_Data = pd.DataFrame({\"Neighborhood\": [\"Shadyside\", \"Bloomfield\", \"Oakwood\", \"Highland Park\", \"Westwood\", \"East Allegheny\", \"Crafton Heights\", \"Greenfield\", \"Brookline\", \"East Liberty\"],\n",
    "                            \"Number of Crimes\": [dictArea[\"Shadyside\"]/SSPOP, dictArea[\"Bloomfield\"]/BFPOP, dictArea[\"Oakwood\"]/OWPOP, dictArea[\"Highland Park\"]/HPPOP, dictArea[\"Westwood\"]/WWPOP, dictArea[\"East Allegheny\"]/EAPOP, dictArea[\"Crafton Heights\"]/CHPOP, dictArea[\"Greenfield\"]/GFPOP, dictArea[\"Brookline\"]/BLPOP, dictArea[\"East Liberty\"]/ELPOP] })\n",
    "\n",
    "\n",
    "\n",
    "\n",
    "Relevent_Data.plot.bar(x = 'Neighborhood', y = 'Number of Crimes', title = 'Crime Distribution of Pittsburgh Neighborhoods', xlabel = 'Neighborhood', ylabel = 'Number of Crimes per 1000 people')"
   ]
  },
  {
   "cell_type": "markdown",
   "metadata": {},
   "source": [
    "Bar Graph and DataFrame Explanation"
   ]
  },
  {
   "cell_type": "markdown",
   "metadata": {},
   "source": [
    "I first created variables of the population of each neighborhood per 1000 people in it. Then I created a dataframe of the data that is relevant to my metric, the neighborhood and the number of arrests in each neighborhood. After that I had it plot a bar graph to showcase which neighborhoods are the safest and most dangerous based off number of arrests per 1000 people in the neighborhood."
   ]
  },
  {
   "cell_type": "code",
   "execution_count": 5,
   "metadata": {},
   "outputs": [
    {
     "name": "stdout",
     "output_type": "stream",
     "text": [
      "Shadyside\n",
      "Violent: 182\n",
      "Non-Violent: 789\n",
      "Bloomfield\n",
      "Violent: 238\n",
      "Non-Violent: 746\n",
      "Oakwood\n",
      "Violent: 32\n",
      "Non-Violent: 50\n",
      "Highland Park\n",
      "Violent: 139\n",
      "Non-Violent: 419\n",
      "Westwood\n",
      "Violent: 81\n",
      "Non-Violent: 145\n",
      "East Allegheny\n",
      "Violent: 263\n",
      "Non-Violent: 1954\n",
      "Crafton Heights\n",
      "Violent: 264\n",
      "Non-Violent: 337\n",
      "Greenfield\n",
      "Violent: 193\n",
      "Non-Violent: 344\n",
      "Brookline\n",
      "Violent: 527\n",
      "Non-Violent: 863\n",
      "East Liberty\n",
      "Violent: 461\n",
      "Non-Violent: 1428\n"
     ]
    }
   ],
   "source": [
    "SS = {}\n",
    "BF = {}\n",
    "OW = {}\n",
    "HP = {}\n",
    "WW = {}\n",
    "EA = {}\n",
    "CH = {}\n",
    "GF = {}\n",
    "BL = {}\n",
    "EL = {}\n",
    "\n",
    "crimes = [SS, BF, OW, HP, WW, EA, CH, GF, BL, EL]\n",
    "crimeTypeV = ['Assault', 'Death', 'Homicide', 'Endangering', 'Cruelty', 'Abuse', 'Injury', 'Fighting']\n",
    "validAreas = [\"Shadyside\", \"Bloomfield\", \"Oakwood\", \"Highland Park\", \"Westwood\", \"East Allegheny\", \"Crafton Heights\", \"Greenfield\", \"Brookline\", \"East Liberty\"]\n",
    "\n",
    "for index, row in data.iterrows():\n",
    "   \n",
    "    if(row['INCIDENTNEIGHBORHOOD'] in validAreas):\n",
    "        hood = validAreas.index(row['INCIDENTNEIGHBORHOOD'])\n",
    "        if (type(row['OFFENSES']) == str and any(x in row['OFFENSES'] for x in crimeTypeV)):\n",
    "            try:\n",
    "                crimes[hood][\"Violent\"] += 1\n",
    "            except:\n",
    "                crimes[hood][\"Violent\"] = 1\n",
    "        else:\n",
    "            try:\n",
    "                crimes[hood][\"Non-Violent\"] += 1\n",
    "            except:\n",
    "                crimes[hood][\"Non-Violent\"] = 1\n",
    "for x in range(len(crimes)):\n",
    "    print(validAreas[x])\n",
    "    print(\"Violent: \" + str(crimes[x][\"Violent\"]))\n",
    "    print(\"Non-Violent: \" + str(crimes[x][\"Non-Violent\"]))"
   ]
  },
  {
   "cell_type": "markdown",
   "metadata": {},
   "source": [
    "Violent vs Non-Violent Crimes Explanation"
   ]
  },
  {
   "cell_type": "markdown",
   "metadata": {},
   "source": [
    "I first created an array that held an empty dictionary which related to each of the neighborhoods. Then I created an array of strings filled with key words that if present in the OFFENSES row would indicate whether a crime was violent. I then recreated my validAreas list as an array so that I could utilize the index function when iterating through the data. Then I finally iterated through the data, if the incident occured in a valid neighborhood I then checked whether the offense contained any of the key words which indicate a violent crime, if it did, then I added one to the 'Violent' total stored in that specific neighborhoods dictionary, if it didn't contain any of the keywords then I did the same thing except for the 'Non-Violent\" total."
   ]
  },
  {
   "cell_type": "code",
   "execution_count": 6,
   "metadata": {},
   "outputs": [
    {
     "data": {
      "text/plain": [
       "<matplotlib.axes._subplots.AxesSubplot at 0x7f4c9a092470>"
      ]
     },
     "execution_count": 6,
     "metadata": {},
     "output_type": "execute_result"
    },
    {
     "data": {
      "image/png": "[encoded data removed]",
      "text/plain": [
       "<Figure size 432x288 with 1 Axes>"
      ]
     },
     "metadata": {
      "needs_background": "light"
     },
     "output_type": "display_data"
    }
   ],
   "source": [
    "hoodPop = [SSPOP, BFPOP, OWPOP, HPPOP, WWPOP, EAPOP, CHPOP, GFPOP, BLPOP, ELPOP]\n",
    "CTD = {'Neighborhood': validAreas, 'Violent': [crimes[x]['Violent']/hoodPop[x] for x in range(len(crimes))], 'Non-Violent': [crimes[x]['Non-Violent']/hoodPop[x] for x in range(len(crimes))]}\n",
    "crimeTypeData = pd.DataFrame(CTD)\n",
    "crimeTypeData.plot.bar(x='Neighborhood', y = ['Violent', 'Non-Violent'], title = 'Violent vs Non-Violent Crime Distribution in Pittsburgh', \n",
    "                       ylabel = 'Number of Crimes per 1000 people', xlabel = 'Neighborhood')"
   ]
  },
  {
   "cell_type": "markdown",
   "metadata": {},
   "source": [
    "Crime Type Bar Graph Explanation"
   ]
  },
  {
   "cell_type": "markdown",
   "metadata": {},
   "source": [
    "I created an array of all the neighhoods population by 1000 people. Then I created a list that stored my x value and two y values for my bar graph. Then I created the DataFrame. Then using the DataFrame I created a bar graph that shows the number of violent and non-violent crimes that occur in each neighborhood. This allwos us to see the true safety ranking of each neighborhood."
   ]
  },
  {
   "cell_type": "markdown",
   "metadata": {},
   "source": [
    "Conclusion"
   ]
  },
  {
   "cell_type": "markdown",
   "metadata": {},
   "source": [
    "The three safest neighborhoods are Shadyside, Oakwood, and Greenfield. Highland Park, Crafton Heights, and East Liberty are the three most dangerous neighborhoods. Given how unsafe Highland Park and East Liberty are they can be taken out of consideration for the best neighborhood race. Oakwood and Shadyside can be given a major bump for both low violent crime and non-violent crimes. East Allegheny and Greenfield gain minor bumps for having such a low violence rate but semi high crime rate and an overall low crime rate respectively. As for Bloomfield, Westwood, and Brookeline, they can all still be considered for the race of best neighborhood but only if the ones mentioned above are significantly worse in other metrics explored. If giving the title of best neighborhood in Pittsburgh solely based off how safe it is then Oakwood would take the cake as the one neighborhood with the overall lowest crime rate, the lowest non-violent crime rate, and it has the second lowest violent crime rate because Shadyside beats it out by the smallest amount."
   ]
  }
 ],
 "metadata": {
  "kernelspec": {
   "display_name": "Python 3.7",
   "language": "python",
   "name": "python3"
  },
  "language_info": {
   "codemirror_mode": {
    "name": "ipython",
    "version": 3
   },
   "file_extension": ".py",
   "mimetype": "text/x-python",
   "name": "python",
   "nbconvert_exporter": "python",
   "pygments_lexer": "ipython3",
   "version": "3.7.0"
  }
 },
 "nbformat": 4,
 "nbformat_minor": 4
}
